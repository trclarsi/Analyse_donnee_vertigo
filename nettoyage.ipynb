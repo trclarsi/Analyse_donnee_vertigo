{
 "cells": [
  {
   "cell_type": "code",
   "execution_count": 2,
   "id": "b3baf425-b473-494a-aad8-a9a99ce23400",
   "metadata": {},
   "outputs": [],
   "source": [
    "import numpy as np\n",
    "import pandas as pd"
   ]
  },
  {
   "cell_type": "code",
   "execution_count": 3,
   "id": "62595caf-d50f-442a-9524-ed6961d80f58",
   "metadata": {},
   "outputs": [],
   "source": [
    "# Chargement des données\n",
    "df = pd.read_csv('Statistiques/Données+clients+VertigGo.csv')"
   ]
  },
  {
   "cell_type": "code",
   "execution_count": 6,
   "id": "7f154caa-2a98-40df-bdde-40adafc60676",
   "metadata": {},
   "outputs": [
    {
     "data": {
      "text/html": [
       "<div>\n",
       "<style scoped>\n",
       "    .dataframe tbody tr th:only-of-type {\n",
       "        vertical-align: middle;\n",
       "    }\n",
       "\n",
       "    .dataframe tbody tr th {\n",
       "        vertical-align: top;\n",
       "    }\n",
       "\n",
       "    .dataframe thead th {\n",
       "        text-align: right;\n",
       "    }\n",
       "</style>\n",
       "<table border=\"1\" class=\"dataframe\">\n",
       "  <thead>\n",
       "    <tr style=\"text-align: right;\">\n",
       "      <th></th>\n",
       "      <th>ID_Client</th>\n",
       "      <th>âge</th>\n",
       "      <th>genre</th>\n",
       "      <th>type de voyage</th>\n",
       "      <th>destination</th>\n",
       "      <th>saison de voyage</th>\n",
       "      <th>durée de voyage (en jours)</th>\n",
       "      <th>nombre de personnes</th>\n",
       "      <th>prix total</th>\n",
       "      <th>mode de paiement</th>\n",
       "      <th>évaluation sur 5</th>\n",
       "      <th>date de début de voyage</th>\n",
       "      <th>date de fin de voyage</th>\n",
       "      <th>période de voyage</th>\n",
       "      <th>budget_voyage_annuel</th>\n",
       "      <th>durée moyenne de voyage annuelle (en jours)</th>\n",
       "    </tr>\n",
       "  </thead>\n",
       "  <tbody>\n",
       "    <tr>\n",
       "      <th>0</th>\n",
       "      <td>1</td>\n",
       "      <td>32</td>\n",
       "      <td>M</td>\n",
       "      <td>Culturel</td>\n",
       "      <td>NaN</td>\n",
       "      <td>été</td>\n",
       "      <td>10</td>\n",
       "      <td>2</td>\n",
       "      <td>4425</td>\n",
       "      <td>Virement</td>\n",
       "      <td>3</td>\n",
       "      <td>07-12-2023</td>\n",
       "      <td>09-12-2023</td>\n",
       "      <td>07-12-2023 au 09-12-2023</td>\n",
       "      <td>6407</td>\n",
       "      <td>4.0</td>\n",
       "    </tr>\n",
       "    <tr>\n",
       "      <th>1</th>\n",
       "      <td>2</td>\n",
       "      <td>38</td>\n",
       "      <td>Autre</td>\n",
       "      <td>détente</td>\n",
       "      <td>Népal</td>\n",
       "      <td>printemps</td>\n",
       "      <td>11</td>\n",
       "      <td>1</td>\n",
       "      <td>5743</td>\n",
       "      <td>Carte de crédit</td>\n",
       "      <td>2</td>\n",
       "      <td>01-09-2023</td>\n",
       "      <td>03-09-2023</td>\n",
       "      <td>01-09-2023 au 03-09-2023</td>\n",
       "      <td>4226</td>\n",
       "      <td>20.0</td>\n",
       "    </tr>\n",
       "    <tr>\n",
       "      <th>2</th>\n",
       "      <td>3</td>\n",
       "      <td>39</td>\n",
       "      <td>Autre</td>\n",
       "      <td>détente</td>\n",
       "      <td>Norvège</td>\n",
       "      <td>hiver</td>\n",
       "      <td>15</td>\n",
       "      <td>2</td>\n",
       "      <td>9565</td>\n",
       "      <td>Virement</td>\n",
       "      <td>3</td>\n",
       "      <td>22-02-2024</td>\n",
       "      <td>23-02-2024</td>\n",
       "      <td>22-02-2024 au 23-02-2024</td>\n",
       "      <td>5144</td>\n",
       "      <td>5.0</td>\n",
       "    </tr>\n",
       "    <tr>\n",
       "      <th>3</th>\n",
       "      <td>4</td>\n",
       "      <td>49</td>\n",
       "      <td>Autre</td>\n",
       "      <td>Aventure</td>\n",
       "      <td>Japon</td>\n",
       "      <td>printemps</td>\n",
       "      <td>16</td>\n",
       "      <td>2</td>\n",
       "      <td>9833</td>\n",
       "      <td>Virement</td>\n",
       "      <td>2</td>\n",
       "      <td>31-08-2023</td>\n",
       "      <td>03-09-2023</td>\n",
       "      <td>31-08-2023 au 03-09-2023</td>\n",
       "      <td>4307</td>\n",
       "      <td>19.0</td>\n",
       "    </tr>\n",
       "    <tr>\n",
       "      <th>4</th>\n",
       "      <td>5</td>\n",
       "      <td>23</td>\n",
       "      <td>M</td>\n",
       "      <td>Aventure</td>\n",
       "      <td>Islande</td>\n",
       "      <td>été</td>\n",
       "      <td>8</td>\n",
       "      <td>4</td>\n",
       "      <td>2358</td>\n",
       "      <td>Paypal</td>\n",
       "      <td>3</td>\n",
       "      <td>29-08-2023</td>\n",
       "      <td>01-09-2023</td>\n",
       "      <td>29-08-2023 au 01-09-2023</td>\n",
       "      <td>4348</td>\n",
       "      <td>10.0</td>\n",
       "    </tr>\n",
       "  </tbody>\n",
       "</table>\n",
       "</div>"
      ],
      "text/plain": [
       "   ID_Client  âge  genre type de voyage destination saison de voyage  \\\n",
       "0          1   32      M       Culturel         NaN              été   \n",
       "1          2   38  Autre        détente       Népal        printemps   \n",
       "2          3   39  Autre        détente     Norvège            hiver   \n",
       "3          4   49  Autre       Aventure       Japon        printemps   \n",
       "4          5   23      M       Aventure     Islande              été   \n",
       "\n",
       "   durée de voyage (en jours)  nombre de personnes  prix total  \\\n",
       "0                          10                    2        4425   \n",
       "1                          11                    1        5743   \n",
       "2                          15                    2        9565   \n",
       "3                          16                    2        9833   \n",
       "4                           8                    4        2358   \n",
       "\n",
       "  mode de paiement  évaluation sur 5 date de début de voyage  \\\n",
       "0         Virement                 3              07-12-2023   \n",
       "1  Carte de crédit                 2              01-09-2023   \n",
       "2         Virement                 3              22-02-2024   \n",
       "3         Virement                 2              31-08-2023   \n",
       "4           Paypal                 3              29-08-2023   \n",
       "\n",
       "  date de fin de voyage         période de voyage  budget_voyage_annuel  \\\n",
       "0            09-12-2023  07-12-2023 au 09-12-2023                  6407   \n",
       "1            03-09-2023  01-09-2023 au 03-09-2023                  4226   \n",
       "2            23-02-2024  22-02-2024 au 23-02-2024                  5144   \n",
       "3            03-09-2023  31-08-2023 au 03-09-2023                  4307   \n",
       "4            01-09-2023  29-08-2023 au 01-09-2023                  4348   \n",
       "\n",
       "   durée moyenne de voyage annuelle (en jours)  \n",
       "0                                          4.0  \n",
       "1                                         20.0  \n",
       "2                                          5.0  \n",
       "3                                         19.0  \n",
       "4                                         10.0  "
      ]
     },
     "execution_count": 6,
     "metadata": {},
     "output_type": "execute_result"
    }
   ],
   "source": [
    "df.head()"
   ]
  },
  {
   "cell_type": "code",
   "execution_count": 40,
   "id": "5288cea8-8597-401c-8e72-1c51769b79f7",
   "metadata": {},
   "outputs": [
    {
     "data": {
      "text/plain": [
       "ID_Client                                        int64\n",
       "âge                                              int64\n",
       "genre                                           object\n",
       "type de voyage                                  object\n",
       "destination                                     object\n",
       "saison de voyage                                object\n",
       "durée de voyage (en jours)                       int64\n",
       "nombre de personnes                              int64\n",
       "prix total                                       int64\n",
       "mode de paiement                                object\n",
       "évaluation sur 5                                 int64\n",
       "date de début de voyage                         object\n",
       "date de fin de voyage                           object\n",
       "période de voyage                               object\n",
       "budget_voyage_annuel                             int64\n",
       "durée moyenne de voyage annuelle (en jours)    float64\n",
       "dtype: object"
      ]
     },
     "execution_count": 40,
     "metadata": {},
     "output_type": "execute_result"
    }
   ],
   "source": [
    "df.dtypes"
   ]
  },
  {
   "cell_type": "markdown",
   "id": "811eb0d7-253d-4b77-90ef-938379ccd9e1",
   "metadata": {},
   "source": [
    "Les doublons"
   ]
  },
  {
   "cell_type": "code",
   "execution_count": 31,
   "id": "8ad3048b-43d5-4894-956a-9d87d2902934",
   "metadata": {},
   "outputs": [
    {
     "data": {
      "text/html": [
       "<div>\n",
       "<style scoped>\n",
       "    .dataframe tbody tr th:only-of-type {\n",
       "        vertical-align: middle;\n",
       "    }\n",
       "\n",
       "    .dataframe tbody tr th {\n",
       "        vertical-align: top;\n",
       "    }\n",
       "\n",
       "    .dataframe thead th {\n",
       "        text-align: right;\n",
       "    }\n",
       "</style>\n",
       "<table border=\"1\" class=\"dataframe\">\n",
       "  <thead>\n",
       "    <tr style=\"text-align: right;\">\n",
       "      <th></th>\n",
       "      <th>ID_Client</th>\n",
       "      <th>âge</th>\n",
       "      <th>genre</th>\n",
       "      <th>type de voyage</th>\n",
       "      <th>destination</th>\n",
       "      <th>saison de voyage</th>\n",
       "      <th>durée de voyage (en jours)</th>\n",
       "      <th>nombre de personnes</th>\n",
       "      <th>prix total</th>\n",
       "      <th>mode de paiement</th>\n",
       "      <th>évaluation sur 5</th>\n",
       "      <th>date de début de voyage</th>\n",
       "      <th>date de fin de voyage</th>\n",
       "      <th>période de voyage</th>\n",
       "      <th>budget_voyage_annuel</th>\n",
       "      <th>durée moyenne de voyage annuelle (en jours)</th>\n",
       "    </tr>\n",
       "  </thead>\n",
       "  <tbody>\n",
       "  </tbody>\n",
       "</table>\n",
       "</div>"
      ],
      "text/plain": [
       "Empty DataFrame\n",
       "Columns: [ID_Client, âge, genre, type de voyage, destination, saison de voyage, durée de voyage (en jours), nombre de personnes, prix total, mode de paiement, évaluation sur 5, date de début de voyage, date de fin de voyage, période de voyage, budget_voyage_annuel, durée moyenne de voyage annuelle (en jours)]\n",
       "Index: []"
      ]
     },
     "execution_count": 31,
     "metadata": {},
     "output_type": "execute_result"
    }
   ],
   "source": [
    "df.loc[df.duplicated()]"
   ]
  },
  {
   "cell_type": "code",
   "execution_count": 32,
   "id": "2be02bb8-8bd8-4570-8250-fd348318cdb9",
   "metadata": {},
   "outputs": [
    {
     "data": {
      "text/plain": [
       "np.int64(0)"
      ]
     },
     "execution_count": 32,
     "metadata": {},
     "output_type": "execute_result"
    }
   ],
   "source": [
    "df.duplicated().sum()"
   ]
  },
  {
   "cell_type": "code",
   "execution_count": 34,
   "id": "2fc9c83a-57ff-492d-abf6-606a25e64cea",
   "metadata": {},
   "outputs": [],
   "source": [
    "df.drop_duplicates(inplace=True)"
   ]
  },
  {
   "cell_type": "code",
   "execution_count": 35,
   "id": "ebfdcde7-6ddc-4789-b407-5e43aed799b0",
   "metadata": {},
   "outputs": [
    {
     "data": {
      "text/plain": [
       "np.int64(0)"
      ]
     },
     "execution_count": 35,
     "metadata": {},
     "output_type": "execute_result"
    }
   ],
   "source": [
    "df.duplicated().sum()"
   ]
  },
  {
   "cell_type": "markdown",
   "id": "8a67f3e1-4c88-45a1-b071-a181c78f192d",
   "metadata": {},
   "source": [
    "Outliers"
   ]
  },
  {
   "cell_type": "code",
   "execution_count": 48,
   "id": "e337a6e4-c3fe-4afa-beeb-850dbe64ca3e",
   "metadata": {},
   "outputs": [
    {
     "data": {
      "text/plain": [
       "['âge',\n",
       " 'durée de voyage (en jours)',\n",
       " 'nombre de personnes',\n",
       " 'prix total',\n",
       " 'évaluation sur 5',\n",
       " 'budget_voyage_annuel',\n",
       " 'durée moyenne de voyage annuelle (en jours)']"
      ]
     },
     "execution_count": 48,
     "metadata": {},
     "output_type": "execute_result"
    }
   ],
   "source": [
    "quanti_col = df.select_dtypes(include=['int64', 'float64']).columns.tolist()\n",
    "quanti_col.remove('ID_Client')\n",
    "quanti_col"
   ]
  },
  {
   "cell_type": "code",
   "execution_count": 58,
   "id": "92910656-cb49-480a-a6a8-ae5c201fd2ae",
   "metadata": {},
   "outputs": [],
   "source": [
    "def detect_outliers(df, feature):\n",
    "    Q1 = df[feature].quantile(0.25)\n",
    "    Q3 = df[feature].quantile(0.75)\n",
    "    IQR = Q3 - Q1\n",
    "    return (df[feature] < (Q1 - 2 * IQR)) | (df[feature] > (Q3 + 2 * IQR))\n",
    "    "
   ]
  },
  {
   "cell_type": "code",
   "execution_count": 62,
   "id": "631cc679-bb20-47d1-8f8d-7e6c5b5c8b57",
   "metadata": {},
   "outputs": [
    {
     "data": {
      "text/html": [
       "<div>\n",
       "<style scoped>\n",
       "    .dataframe tbody tr th:only-of-type {\n",
       "        vertical-align: middle;\n",
       "    }\n",
       "\n",
       "    .dataframe tbody tr th {\n",
       "        vertical-align: top;\n",
       "    }\n",
       "\n",
       "    .dataframe thead th {\n",
       "        text-align: right;\n",
       "    }\n",
       "</style>\n",
       "<table border=\"1\" class=\"dataframe\">\n",
       "  <thead>\n",
       "    <tr style=\"text-align: right;\">\n",
       "      <th></th>\n",
       "      <th>ID_Client</th>\n",
       "      <th>âge</th>\n",
       "      <th>genre</th>\n",
       "      <th>type de voyage</th>\n",
       "      <th>destination</th>\n",
       "      <th>saison de voyage</th>\n",
       "      <th>durée de voyage (en jours)</th>\n",
       "      <th>nombre de personnes</th>\n",
       "      <th>prix total</th>\n",
       "      <th>mode de paiement</th>\n",
       "      <th>évaluation sur 5</th>\n",
       "      <th>date de début de voyage</th>\n",
       "      <th>date de fin de voyage</th>\n",
       "      <th>période de voyage</th>\n",
       "      <th>budget_voyage_annuel</th>\n",
       "      <th>durée moyenne de voyage annuelle (en jours)</th>\n",
       "    </tr>\n",
       "  </thead>\n",
       "  <tbody>\n",
       "  </tbody>\n",
       "</table>\n",
       "</div>"
      ],
      "text/plain": [
       "Empty DataFrame\n",
       "Columns: [ID_Client, âge, genre, type de voyage, destination, saison de voyage, durée de voyage (en jours), nombre de personnes, prix total, mode de paiement, évaluation sur 5, date de début de voyage, date de fin de voyage, période de voyage, budget_voyage_annuel, durée moyenne de voyage annuelle (en jours)]\n",
       "Index: []"
      ]
     },
     "execution_count": 62,
     "metadata": {},
     "output_type": "execute_result"
    }
   ],
   "source": [
    "df[detect_outliers(df,\"âge\")]"
   ]
  },
  {
   "cell_type": "code",
   "execution_count": 60,
   "id": "8baa0aa9-66d0-4e6a-9d79-aab781d52304",
   "metadata": {},
   "outputs": [],
   "source": [
    "for col in quanti_col:\n",
    "    if col in df.columns:\n",
    "        df = df[~detect_outliers(df, col)]"
   ]
  },
  {
   "cell_type": "code",
   "execution_count": 61,
   "id": "da6c6215-fd95-4806-b006-f541850e05a8",
   "metadata": {},
   "outputs": [
    {
     "data": {
      "text/html": [
       "<div>\n",
       "<style scoped>\n",
       "    .dataframe tbody tr th:only-of-type {\n",
       "        vertical-align: middle;\n",
       "    }\n",
       "\n",
       "    .dataframe tbody tr th {\n",
       "        vertical-align: top;\n",
       "    }\n",
       "\n",
       "    .dataframe thead th {\n",
       "        text-align: right;\n",
       "    }\n",
       "</style>\n",
       "<table border=\"1\" class=\"dataframe\">\n",
       "  <thead>\n",
       "    <tr style=\"text-align: right;\">\n",
       "      <th></th>\n",
       "      <th>ID_Client</th>\n",
       "      <th>âge</th>\n",
       "      <th>genre</th>\n",
       "      <th>type de voyage</th>\n",
       "      <th>destination</th>\n",
       "      <th>saison de voyage</th>\n",
       "      <th>durée de voyage (en jours)</th>\n",
       "      <th>nombre de personnes</th>\n",
       "      <th>prix total</th>\n",
       "      <th>mode de paiement</th>\n",
       "      <th>évaluation sur 5</th>\n",
       "      <th>date de début de voyage</th>\n",
       "      <th>date de fin de voyage</th>\n",
       "      <th>période de voyage</th>\n",
       "      <th>budget_voyage_annuel</th>\n",
       "      <th>durée moyenne de voyage annuelle (en jours)</th>\n",
       "    </tr>\n",
       "  </thead>\n",
       "  <tbody>\n",
       "  </tbody>\n",
       "</table>\n",
       "</div>"
      ],
      "text/plain": [
       "Empty DataFrame\n",
       "Columns: [ID_Client, âge, genre, type de voyage, destination, saison de voyage, durée de voyage (en jours), nombre de personnes, prix total, mode de paiement, évaluation sur 5, date de début de voyage, date de fin de voyage, période de voyage, budget_voyage_annuel, durée moyenne de voyage annuelle (en jours)]\n",
       "Index: []"
      ]
     },
     "execution_count": 61,
     "metadata": {},
     "output_type": "execute_result"
    }
   ],
   "source": [
    "df[detect_outliers(df,\"âge\")]"
   ]
  },
  {
   "cell_type": "markdown",
   "id": "8f2db6bd-06db-402e-b2ed-61713cc3a9d9",
   "metadata": {},
   "source": [
    "Valeurs manquantes"
   ]
  },
  {
   "cell_type": "code",
   "execution_count": 66,
   "id": "f5e2a239-2837-4ce9-9a8c-83017273270a",
   "metadata": {},
   "outputs": [
    {
     "data": {
      "text/plain": [
       "ID_Client                                        0\n",
       "âge                                              0\n",
       "genre                                          164\n",
       "type de voyage                                 125\n",
       "destination                                      5\n",
       "saison de voyage                                 0\n",
       "durée de voyage (en jours)                       0\n",
       "nombre de personnes                              0\n",
       "prix total                                       0\n",
       "mode de paiement                               152\n",
       "évaluation sur 5                                 0\n",
       "date de début de voyage                          2\n",
       "date de fin de voyage                            2\n",
       "période de voyage                                2\n",
       "budget_voyage_annuel                             0\n",
       "durée moyenne de voyage annuelle (en jours)      1\n",
       "dtype: int64"
      ]
     },
     "execution_count": 66,
     "metadata": {},
     "output_type": "execute_result"
    }
   ],
   "source": [
    "df.isnull().sum()"
   ]
  },
  {
   "cell_type": "code",
   "execution_count": 67,
   "id": "c33c9139-cba1-4b21-ad4f-acc35afd364e",
   "metadata": {},
   "outputs": [
    {
     "data": {
      "text/html": [
       "<div>\n",
       "<style scoped>\n",
       "    .dataframe tbody tr th:only-of-type {\n",
       "        vertical-align: middle;\n",
       "    }\n",
       "\n",
       "    .dataframe tbody tr th {\n",
       "        vertical-align: top;\n",
       "    }\n",
       "\n",
       "    .dataframe thead th {\n",
       "        text-align: right;\n",
       "    }\n",
       "</style>\n",
       "<table border=\"1\" class=\"dataframe\">\n",
       "  <thead>\n",
       "    <tr style=\"text-align: right;\">\n",
       "      <th></th>\n",
       "      <th>ID_Client</th>\n",
       "      <th>âge</th>\n",
       "      <th>genre</th>\n",
       "      <th>type de voyage</th>\n",
       "      <th>destination</th>\n",
       "      <th>saison de voyage</th>\n",
       "      <th>durée de voyage (en jours)</th>\n",
       "      <th>nombre de personnes</th>\n",
       "      <th>prix total</th>\n",
       "      <th>mode de paiement</th>\n",
       "      <th>évaluation sur 5</th>\n",
       "      <th>date de début de voyage</th>\n",
       "      <th>date de fin de voyage</th>\n",
       "      <th>période de voyage</th>\n",
       "      <th>budget_voyage_annuel</th>\n",
       "      <th>durée moyenne de voyage annuelle (en jours)</th>\n",
       "    </tr>\n",
       "  </thead>\n",
       "  <tbody>\n",
       "    <tr>\n",
       "      <th>0</th>\n",
       "      <td>1</td>\n",
       "      <td>32</td>\n",
       "      <td>M</td>\n",
       "      <td>Culturel</td>\n",
       "      <td>NaN</td>\n",
       "      <td>été</td>\n",
       "      <td>10</td>\n",
       "      <td>2</td>\n",
       "      <td>4425</td>\n",
       "      <td>Virement</td>\n",
       "      <td>3</td>\n",
       "      <td>07-12-2023</td>\n",
       "      <td>09-12-2023</td>\n",
       "      <td>07-12-2023 au 09-12-2023</td>\n",
       "      <td>6407</td>\n",
       "      <td>4.0</td>\n",
       "    </tr>\n",
       "    <tr>\n",
       "      <th>6</th>\n",
       "      <td>7</td>\n",
       "      <td>33</td>\n",
       "      <td>Autre</td>\n",
       "      <td>culturel</td>\n",
       "      <td>Népal</td>\n",
       "      <td>hiver</td>\n",
       "      <td>5</td>\n",
       "      <td>4</td>\n",
       "      <td>105</td>\n",
       "      <td>NaN</td>\n",
       "      <td>3</td>\n",
       "      <td>19-05-2023</td>\n",
       "      <td>22-05-2023</td>\n",
       "      <td>19-05-2023 au 22-05-2023</td>\n",
       "      <td>5333</td>\n",
       "      <td>4.0</td>\n",
       "    </tr>\n",
       "    <tr>\n",
       "      <th>9</th>\n",
       "      <td>10</td>\n",
       "      <td>34</td>\n",
       "      <td>M</td>\n",
       "      <td>NaN</td>\n",
       "      <td>Japon</td>\n",
       "      <td>hiver</td>\n",
       "      <td>10</td>\n",
       "      <td>3</td>\n",
       "      <td>4459</td>\n",
       "      <td>Paypal</td>\n",
       "      <td>1</td>\n",
       "      <td>13-06-2023</td>\n",
       "      <td>16-06-2023</td>\n",
       "      <td>13-06-2023 au 16-06-2023</td>\n",
       "      <td>3658</td>\n",
       "      <td>6.0</td>\n",
       "    </tr>\n",
       "    <tr>\n",
       "      <th>22</th>\n",
       "      <td>22</td>\n",
       "      <td>45</td>\n",
       "      <td>M</td>\n",
       "      <td>Détente</td>\n",
       "      <td>Bali</td>\n",
       "      <td>hiver</td>\n",
       "      <td>8</td>\n",
       "      <td>1</td>\n",
       "      <td>2383</td>\n",
       "      <td>NaN</td>\n",
       "      <td>1</td>\n",
       "      <td>18-01-2024</td>\n",
       "      <td>21-01-2024</td>\n",
       "      <td>18-01-2024 au 21-01-2024</td>\n",
       "      <td>7114</td>\n",
       "      <td>6.0</td>\n",
       "    </tr>\n",
       "    <tr>\n",
       "      <th>30</th>\n",
       "      <td>30</td>\n",
       "      <td>37</td>\n",
       "      <td>Autre</td>\n",
       "      <td>détente</td>\n",
       "      <td>NaN</td>\n",
       "      <td>automne</td>\n",
       "      <td>8</td>\n",
       "      <td>1</td>\n",
       "      <td>2387</td>\n",
       "      <td>Virement</td>\n",
       "      <td>2</td>\n",
       "      <td>03-08-2023</td>\n",
       "      <td>04-08-2023</td>\n",
       "      <td>03-08-2023 au 04-08-2023</td>\n",
       "      <td>4577</td>\n",
       "      <td>5.0</td>\n",
       "    </tr>\n",
       "    <tr>\n",
       "      <th>...</th>\n",
       "      <td>...</td>\n",
       "      <td>...</td>\n",
       "      <td>...</td>\n",
       "      <td>...</td>\n",
       "      <td>...</td>\n",
       "      <td>...</td>\n",
       "      <td>...</td>\n",
       "      <td>...</td>\n",
       "      <td>...</td>\n",
       "      <td>...</td>\n",
       "      <td>...</td>\n",
       "      <td>...</td>\n",
       "      <td>...</td>\n",
       "      <td>...</td>\n",
       "      <td>...</td>\n",
       "      <td>...</td>\n",
       "    </tr>\n",
       "    <tr>\n",
       "      <th>792</th>\n",
       "      <td>790</td>\n",
       "      <td>18</td>\n",
       "      <td>F</td>\n",
       "      <td>NaN</td>\n",
       "      <td>Brésil</td>\n",
       "      <td>été</td>\n",
       "      <td>15</td>\n",
       "      <td>4</td>\n",
       "      <td>9796</td>\n",
       "      <td>Virement</td>\n",
       "      <td>3</td>\n",
       "      <td>13-04-2024</td>\n",
       "      <td>13-05-2024</td>\n",
       "      <td>13-04-2024 au 13-05-2024</td>\n",
       "      <td>618</td>\n",
       "      <td>4.0</td>\n",
       "    </tr>\n",
       "    <tr>\n",
       "      <th>794</th>\n",
       "      <td>792</td>\n",
       "      <td>30</td>\n",
       "      <td>M</td>\n",
       "      <td>NaN</td>\n",
       "      <td>Maroc</td>\n",
       "      <td>printemps</td>\n",
       "      <td>7</td>\n",
       "      <td>2</td>\n",
       "      <td>2339</td>\n",
       "      <td>Virement</td>\n",
       "      <td>2</td>\n",
       "      <td>11-07-2024</td>\n",
       "      <td>21-07-2024</td>\n",
       "      <td>11-07-2024 au 21-07-2024</td>\n",
       "      <td>6356</td>\n",
       "      <td>12.0</td>\n",
       "    </tr>\n",
       "    <tr>\n",
       "      <th>795</th>\n",
       "      <td>793</td>\n",
       "      <td>38</td>\n",
       "      <td>NaN</td>\n",
       "      <td>NaN</td>\n",
       "      <td>Népal</td>\n",
       "      <td>été</td>\n",
       "      <td>7</td>\n",
       "      <td>2</td>\n",
       "      <td>2348</td>\n",
       "      <td>Virement</td>\n",
       "      <td>2</td>\n",
       "      <td>15-03-2025</td>\n",
       "      <td>27-03-2025</td>\n",
       "      <td>15-03-2025 au 27-03-2025</td>\n",
       "      <td>1456</td>\n",
       "      <td>8.0</td>\n",
       "    </tr>\n",
       "    <tr>\n",
       "      <th>799</th>\n",
       "      <td>797</td>\n",
       "      <td>24</td>\n",
       "      <td>NaN</td>\n",
       "      <td>aventure</td>\n",
       "      <td>Islande</td>\n",
       "      <td>hiver</td>\n",
       "      <td>10</td>\n",
       "      <td>5</td>\n",
       "      <td>5736</td>\n",
       "      <td>Virement</td>\n",
       "      <td>3</td>\n",
       "      <td>14-04-2024</td>\n",
       "      <td>11-05-2024</td>\n",
       "      <td>14-04-2024 au 11-05-2024</td>\n",
       "      <td>5031</td>\n",
       "      <td>28.0</td>\n",
       "    </tr>\n",
       "    <tr>\n",
       "      <th>800</th>\n",
       "      <td>798</td>\n",
       "      <td>46</td>\n",
       "      <td>Autre</td>\n",
       "      <td>NaN</td>\n",
       "      <td>France</td>\n",
       "      <td>été</td>\n",
       "      <td>7</td>\n",
       "      <td>4</td>\n",
       "      <td>2349</td>\n",
       "      <td>Carte de crédit</td>\n",
       "      <td>2</td>\n",
       "      <td>22-11-2024</td>\n",
       "      <td>20-12-2024</td>\n",
       "      <td>22-11-2024 au 20-12-2024</td>\n",
       "      <td>3908</td>\n",
       "      <td>NaN</td>\n",
       "    </tr>\n",
       "  </tbody>\n",
       "</table>\n",
       "<p>365 rows × 16 columns</p>\n",
       "</div>"
      ],
      "text/plain": [
       "     ID_Client  âge  genre type de voyage destination saison de voyage  \\\n",
       "0            1   32      M       Culturel         NaN              été   \n",
       "6            7   33  Autre       culturel       Népal            hiver   \n",
       "9           10   34      M            NaN       Japon            hiver   \n",
       "22          22   45      M        Détente        Bali            hiver   \n",
       "30          30   37  Autre        détente         NaN          automne   \n",
       "..         ...  ...    ...            ...         ...              ...   \n",
       "792        790   18      F            NaN      Brésil              été   \n",
       "794        792   30      M            NaN       Maroc        printemps   \n",
       "795        793   38    NaN            NaN       Népal              été   \n",
       "799        797   24    NaN       aventure     Islande            hiver   \n",
       "800        798   46  Autre            NaN      France              été   \n",
       "\n",
       "     durée de voyage (en jours)  nombre de personnes  prix total  \\\n",
       "0                            10                    2        4425   \n",
       "6                             5                    4         105   \n",
       "9                            10                    3        4459   \n",
       "22                            8                    1        2383   \n",
       "30                            8                    1        2387   \n",
       "..                          ...                  ...         ...   \n",
       "792                          15                    4        9796   \n",
       "794                           7                    2        2339   \n",
       "795                           7                    2        2348   \n",
       "799                          10                    5        5736   \n",
       "800                           7                    4        2349   \n",
       "\n",
       "    mode de paiement  évaluation sur 5 date de début de voyage  \\\n",
       "0           Virement                 3              07-12-2023   \n",
       "6                NaN                 3              19-05-2023   \n",
       "9             Paypal                 1              13-06-2023   \n",
       "22               NaN                 1              18-01-2024   \n",
       "30          Virement                 2              03-08-2023   \n",
       "..               ...               ...                     ...   \n",
       "792         Virement                 3              13-04-2024   \n",
       "794         Virement                 2              11-07-2024   \n",
       "795         Virement                 2              15-03-2025   \n",
       "799         Virement                 3              14-04-2024   \n",
       "800  Carte de crédit                 2              22-11-2024   \n",
       "\n",
       "    date de fin de voyage         période de voyage  budget_voyage_annuel  \\\n",
       "0              09-12-2023  07-12-2023 au 09-12-2023                  6407   \n",
       "6              22-05-2023  19-05-2023 au 22-05-2023                  5333   \n",
       "9              16-06-2023  13-06-2023 au 16-06-2023                  3658   \n",
       "22             21-01-2024  18-01-2024 au 21-01-2024                  7114   \n",
       "30             04-08-2023  03-08-2023 au 04-08-2023                  4577   \n",
       "..                    ...                       ...                   ...   \n",
       "792            13-05-2024  13-04-2024 au 13-05-2024                   618   \n",
       "794            21-07-2024  11-07-2024 au 21-07-2024                  6356   \n",
       "795            27-03-2025  15-03-2025 au 27-03-2025                  1456   \n",
       "799            11-05-2024  14-04-2024 au 11-05-2024                  5031   \n",
       "800            20-12-2024  22-11-2024 au 20-12-2024                  3908   \n",
       "\n",
       "     durée moyenne de voyage annuelle (en jours)  \n",
       "0                                            4.0  \n",
       "6                                            4.0  \n",
       "9                                            6.0  \n",
       "22                                           6.0  \n",
       "30                                           5.0  \n",
       "..                                           ...  \n",
       "792                                          4.0  \n",
       "794                                         12.0  \n",
       "795                                          8.0  \n",
       "799                                         28.0  \n",
       "800                                          NaN  \n",
       "\n",
       "[365 rows x 16 columns]"
      ]
     },
     "execution_count": 67,
     "metadata": {},
     "output_type": "execute_result"
    }
   ],
   "source": [
    "df[df.isnull().any(axis=1)]"
   ]
  },
  {
   "cell_type": "code",
   "execution_count": 68,
   "id": "cd0bb868-ec50-4802-b775-15fa328dcdeb",
   "metadata": {},
   "outputs": [],
   "source": [
    "values = {}\n",
    "for c in df.columns:\n",
    "    if df[c].dtype != 'object':\n",
    "        values[c] = df[c].median()\n",
    "    else:\n",
    "        values[c] = df[c].mode()[0]\n",
    "\n",
    "df.fillna(value=values, inplace=True)"
   ]
  },
  {
   "cell_type": "code",
   "execution_count": 69,
   "id": "eae37d49-ae45-43fb-ab03-6dc690cb32e8",
   "metadata": {},
   "outputs": [
    {
     "data": {
      "text/plain": [
       "{'ID_Client': np.float64(399.5),\n",
       " 'âge': np.float64(34.0),\n",
       " 'genre': 'Autre',\n",
       " 'type de voyage': 'Culturel',\n",
       " 'destination': 'Bali',\n",
       " 'saison de voyage': 'été',\n",
       " 'durée de voyage (en jours)': np.float64(9.5),\n",
       " 'nombre de personnes': np.float64(3.0),\n",
       " 'prix total': np.float64(4420.5),\n",
       " 'mode de paiement': 'Virement',\n",
       " 'évaluation sur 5': np.float64(2.0),\n",
       " 'date de début de voyage': '01-07-2024',\n",
       " 'date de fin de voyage': '02-07-2024',\n",
       " 'période de voyage': '16-08-2023 au 19-08-2023',\n",
       " 'budget_voyage_annuel': np.float64(5114.5),\n",
       " 'durée moyenne de voyage annuelle (en jours)': np.float64(15.0)}"
      ]
     },
     "execution_count": 69,
     "metadata": {},
     "output_type": "execute_result"
    }
   ],
   "source": [
    "values"
   ]
  },
  {
   "cell_type": "code",
   "execution_count": 70,
   "id": "b609bc3f-3b4a-453e-8d94-9829d3eaff53",
   "metadata": {},
   "outputs": [
    {
     "data": {
      "text/plain": [
       "ID_Client                                      0\n",
       "âge                                            0\n",
       "genre                                          0\n",
       "type de voyage                                 0\n",
       "destination                                    0\n",
       "saison de voyage                               0\n",
       "durée de voyage (en jours)                     0\n",
       "nombre de personnes                            0\n",
       "prix total                                     0\n",
       "mode de paiement                               0\n",
       "évaluation sur 5                               0\n",
       "date de début de voyage                        0\n",
       "date de fin de voyage                          0\n",
       "période de voyage                              0\n",
       "budget_voyage_annuel                           0\n",
       "durée moyenne de voyage annuelle (en jours)    0\n",
       "dtype: int64"
      ]
     },
     "execution_count": 70,
     "metadata": {},
     "output_type": "execute_result"
    }
   ],
   "source": [
    "df.isnull().sum()"
   ]
  },
  {
   "cell_type": "code",
   "execution_count": 72,
   "id": "7ddb7a80-c2d7-4c31-986d-76762ecf9b37",
   "metadata": {},
   "outputs": [
    {
     "data": {
      "text/plain": [
       "type de voyage\n",
       "Aventure    35.401575\n",
       "Culturel    33.599222\n",
       "Détente     34.617647\n",
       "aventure    34.342857\n",
       "culturel    33.972222\n",
       "détente     35.070707\n",
       "Name: âge, dtype: float64"
      ]
     },
     "execution_count": 72,
     "metadata": {},
     "output_type": "execute_result"
    }
   ],
   "source": [
    "df.groupby('type de voyage')[\"âge\"].mean()"
   ]
  },
  {
   "cell_type": "code",
   "execution_count": 73,
   "id": "8058cb9c-caec-4355-a796-c5ba016b9a67",
   "metadata": {},
   "outputs": [],
   "source": [
    "df['type de voyage'] = df['type de voyage'].str.lower()"
   ]
  },
  {
   "cell_type": "code",
   "execution_count": 74,
   "id": "5ecbd7e2-c60f-405f-84e5-035cbd3aefb7",
   "metadata": {},
   "outputs": [
    {
     "data": {
      "text/plain": [
       "type de voyage\n",
       "aventure    34.922414\n",
       "culturel    33.709589\n",
       "détente     34.840796\n",
       "Name: âge, dtype: float64"
      ]
     },
     "execution_count": 74,
     "metadata": {},
     "output_type": "execute_result"
    }
   ],
   "source": [
    "df.groupby('type de voyage')[\"âge\"].mean()"
   ]
  },
  {
   "cell_type": "code",
   "execution_count": 76,
   "id": "4d781ff0-f526-4923-a34e-a3ed671ef99e",
   "metadata": {},
   "outputs": [],
   "source": [
    "df.to_csv('Statistiques/vertigo_nettoyées.csv', index = False)"
   ]
  },
  {
   "cell_type": "code",
   "execution_count": null,
   "id": "1cc262cc-4a7a-4d16-b836-325ad6502009",
   "metadata": {},
   "outputs": [],
   "source": []
  },
  {
   "cell_type": "code",
   "execution_count": null,
   "id": "5d8e61eb-653d-4b0a-a3b0-d7829c963ffc",
   "metadata": {},
   "outputs": [],
   "source": []
  },
  {
   "cell_type": "code",
   "execution_count": null,
   "id": "f2220762-7dd9-4030-b89c-267028029826",
   "metadata": {},
   "outputs": [],
   "source": []
  },
  {
   "cell_type": "code",
   "execution_count": null,
   "id": "27a6c232-fa1e-4155-86d9-9eac6f80fc0b",
   "metadata": {},
   "outputs": [],
   "source": []
  },
  {
   "cell_type": "code",
   "execution_count": null,
   "id": "e7514391-4dd1-4128-87c9-de7a30f6b6f4",
   "metadata": {},
   "outputs": [],
   "source": []
  },
  {
   "cell_type": "code",
   "execution_count": null,
   "id": "cdbde5e0-6ab0-49d0-8dcd-0e21a96de957",
   "metadata": {},
   "outputs": [],
   "source": []
  },
  {
   "cell_type": "code",
   "execution_count": null,
   "id": "0580b44a-0958-4449-9256-6b3b3fd1ba3f",
   "metadata": {},
   "outputs": [],
   "source": []
  }
 ],
 "metadata": {
  "kernelspec": {
   "display_name": "Python 3 (ipykernel)",
   "language": "python",
   "name": "python3"
  },
  "language_info": {
   "codemirror_mode": {
    "name": "ipython",
    "version": 3
   },
   "file_extension": ".py",
   "mimetype": "text/x-python",
   "name": "python",
   "nbconvert_exporter": "python",
   "pygments_lexer": "ipython3",
   "version": "3.13.5"
  }
 },
 "nbformat": 4,
 "nbformat_minor": 5
}
